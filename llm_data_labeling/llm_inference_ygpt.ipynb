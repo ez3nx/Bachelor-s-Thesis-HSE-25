{
  "cells": [
    {
      "cell_type": "code",
      "execution_count": null,
      "metadata": {
        "execution": {
          "iopub.execute_input": "2025-05-04T10:35:16.475182Z",
          "iopub.status.busy": "2025-05-04T10:35:16.474953Z",
          "iopub.status.idle": "2025-05-04T10:35:25.578199Z",
          "shell.execute_reply": "2025-05-04T10:35:25.57761Z",
          "shell.execute_reply.started": "2025-05-04T10:35:16.475155Z"
        },
        "id": "tnJk2TXQbrMA",
        "trusted": true
      },
      "outputs": [],
      "source": [
        "# import sqlite3\n",
        "import pandas as pd\n",
        "import torch\n",
        "from tqdm import tqdm\n",
        "import accelerate"
      ]
    },
    {
      "cell_type": "code",
      "execution_count": null,
      "metadata": {
        "execution": {
          "iopub.execute_input": "2025-05-04T10:35:30.536445Z",
          "iopub.status.busy": "2025-05-04T10:35:30.535818Z",
          "iopub.status.idle": "2025-05-04T10:35:30.66138Z",
          "shell.execute_reply": "2025-05-04T10:35:30.660663Z",
          "shell.execute_reply.started": "2025-05-04T10:35:30.536415Z"
        },
        "id": "8ab82duzbrMB",
        "trusted": true
      },
      "outputs": [],
      "source": [
        "import os\n",
        "os.environ[\"HUGGINGFACE_TOKEN\"] = \"YOUR TOKEN\"\n",
        "\n",
        "from huggingface_hub import login\n",
        "login(token=os.environ[\"HUGGINGFACE_TOKEN\"])"
      ]
    },
    {
      "cell_type": "code",
      "execution_count": null,
      "metadata": {
        "execution": {
          "iopub.execute_input": "2025-05-04T10:35:31.314387Z",
          "iopub.status.busy": "2025-05-04T10:35:31.314109Z",
          "iopub.status.idle": "2025-05-04T10:35:31.318203Z",
          "shell.execute_reply": "2025-05-04T10:35:31.317419Z",
          "shell.execute_reply.started": "2025-05-04T10:35:31.314367Z"
        },
        "id": "Wvvv68tCbrME",
        "trusted": true
      },
      "outputs": [],
      "source": [
        "max_memory_map = {\n",
        "    0: \"14GiB\", # Или \"14000MiB\"\n",
        "    1: \"14GiB\"  # Или \"14000MiB\"\n",
        "    # Если бы была еще CPU память или диск, можно добавить:\n",
        "    # \"cpu\": \"30GiB\"\n",
        "}"
      ]
    },
    {
      "cell_type": "code",
      "execution_count": null,
      "metadata": {
        "colab": {
          "referenced_widgets": [
            "4c8cd78282d84a4b9a3c094aa5005d88",
            "dcb2f4f796a64eeba1b13f8f39f09ec1",
            "d8ca6d80ab744577936132d06702af8c",
            "8933f367ed5d40a29f3d96be01e78bb3",
            "c08d270465ed4db5ab9756834e2e7c59",
            "9f12647a412a4b6dabbf356d687ed4c3",
            "29a9580ac9d4410993b50281d266fa46",
            "85ec8b2a08914a0780a2a7125241d24d",
            "59642f8af67947559296751f262ebd03",
            "48ab28847b7b4156984fca4b1f5e1f9b",
            "8b00f80c2f8c4183b490e423e6275e87"
          ]
        },
        "execution": {
          "iopub.execute_input": "2025-05-04T10:35:48.050807Z",
          "iopub.status.busy": "2025-05-04T10:35:48.050264Z",
          "iopub.status.idle": "2025-05-04T10:37:22.958978Z",
          "shell.execute_reply": "2025-05-04T10:37:22.958165Z",
          "shell.execute_reply.started": "2025-05-04T10:35:48.050779Z"
        },
        "id": "Dm5rS-3EbrMG",
        "outputId": "27faebec-adc6-4f4a-ce15-772031a67b56",
        "trusted": true
      },
      "outputs": [],
      "source": [
        "from transformers import AutoModelForCausalLM, AutoTokenizer\n",
        "\n",
        "\n",
        "MODEL_NAME = \"yandex/YandexGPT-5-Lite-8B-instruct\"\n",
        "\n",
        "tokenizer = AutoTokenizer.from_pretrained(MODEL_NAME)\n",
        "model = AutoModelForCausalLM.from_pretrained(\n",
        "    MODEL_NAME,\n",
        "    device_map=\"auto\",\n",
        "    torch_dtype=\"auto\",\n",
        "    max_memory=max_memory_map,\n",
        ")\n"
      ]
    },
    {
      "cell_type": "code",
      "execution_count": null,
      "metadata": {
        "execution": {
          "iopub.execute_input": "2025-05-04T10:38:32.969521Z",
          "iopub.status.busy": "2025-05-04T10:38:32.968977Z",
          "iopub.status.idle": "2025-05-04T10:38:32.973458Z",
          "shell.execute_reply": "2025-05-04T10:38:32.972709Z",
          "shell.execute_reply.started": "2025-05-04T10:38:32.969484Z"
        },
        "id": "HYuniGUabrMI",
        "trusted": true
      },
      "outputs": [],
      "source": [
        "system_prompt = \"\"\"Ты - ИИ для анализа финансового сентимента постов.\n",
        "Твоя задача - классифицировать пост по его тональности относительно торговли акциями.\n",
        "Верни ТОЛЬКО ОДНО ЧИСЛО: 1 (покупаем актив/бычий), 0 (нейтральный), -1 (продаем актив /медвежий)\n",
        "\n",
        "Проанализируй пост и верни ТОЛЬКО число\"\"\"\n",
        "\n",
        "query = 'Полетела 💩💩💩💩'"
      ]
    },
    {
      "cell_type": "code",
      "execution_count": null,
      "metadata": {
        "execution": {
          "iopub.execute_input": "2025-05-04T10:38:45.756274Z",
          "iopub.status.busy": "2025-05-04T10:38:45.755685Z",
          "iopub.status.idle": "2025-05-04T10:38:45.760281Z",
          "shell.execute_reply": "2025-05-04T10:38:45.759539Z",
          "shell.execute_reply.started": "2025-05-04T10:38:45.75625Z"
        },
        "id": "OD_ugusHbrMK",
        "outputId": "73df9eb3-3f03-4f9f-f23c-f69200e1fe5f",
        "trusted": true
      },
      "outputs": [
        {
          "name": "stdout",
          "output_type": "stream",
          "text": [
            "Сформированный промпт:\n",
            "System: Ты - ИИ для анализа финансового сентимента постов.\n",
            "Твоя задача - классифицировать пост по его тональности относительно торговли акциями.\n",
            "Верни ТОЛЬКО ОДНО ЧИСЛО: 1 (покупаем актив/бычий), 0 (нейтральный), -1 (продаем актив /медвежий)\n",
            "\n",
            "Проанализируй пост и верни ТОЛЬКО число\n",
            "User: Полетела 💩💩💩💩\n",
            "Assistant:\n",
            "--------------------\n"
          ]
        }
      ],
      "source": [
        "import re\n",
        "\n",
        "full_prompt = f\"\"\"System: {system_prompt}\n",
        "User: {query}\n",
        "Assistant:\"\"\" # Добавляем маркер начала ответа ассистента\n",
        "\n",
        "print(\"Сформированный промпт:\")\n",
        "print(full_prompt)\n",
        "print(\"-\" * 20)\n"
      ]
    },
    {
      "cell_type": "code",
      "execution_count": null,
      "metadata": {
        "execution": {
          "iopub.execute_input": "2025-05-04T10:38:46.329791Z",
          "iopub.status.busy": "2025-05-04T10:38:46.329542Z",
          "iopub.status.idle": "2025-05-04T10:38:46.333419Z",
          "shell.execute_reply": "2025-05-04T10:38:46.332767Z",
          "shell.execute_reply.started": "2025-05-04T10:38:46.329772Z"
        },
        "id": "PwCjr-UpbrMK",
        "trusted": true
      },
      "outputs": [],
      "source": [
        "messages = [\n",
        "    # {\"role\": \"system\", \"content\": system_prompt},\n",
        "    {\"role\": \"user\", \"content\": full_prompt}\n",
        "]"
      ]
    },
    {
      "cell_type": "code",
      "execution_count": null,
      "metadata": {
        "execution": {
          "iopub.execute_input": "2025-05-04T10:38:47.680641Z",
          "iopub.status.busy": "2025-05-04T10:38:47.680128Z",
          "iopub.status.idle": "2025-05-04T10:38:47.973197Z",
          "shell.execute_reply": "2025-05-04T10:38:47.972562Z",
          "shell.execute_reply.started": "2025-05-04T10:38:47.680615Z"
        },
        "id": "VuXZB48ZbrML",
        "outputId": "8bbc3259-0d87-44a6-948c-31571e5797f2",
        "trusted": true
      },
      "outputs": [
        {
          "name": "stderr",
          "output_type": "stream",
          "text": [
            "The attention mask and the pad token id were not set. As a consequence, you may observe unexpected behavior. Please pass your input's `attention_mask` to obtain reliable results.\n",
            "Setting `pad_token_id` to `eos_token_id`:2 for open-end generation.\n"
          ]
        },
        {
          "name": "stdout",
          "output_type": "stream",
          "text": [
            "-1\n"
          ]
        }
      ],
      "source": [
        "input_ids = tokenizer.apply_chat_template(\n",
        "    messages, tokenize=True, return_tensors=\"pt\"\n",
        ").to(\"cuda\")\n",
        "\n",
        "outputs = model.generate(input_ids, max_new_tokens=1024)\n",
        "print(tokenizer.decode(outputs[0][input_ids.size(1) :], skip_special_tokens=True))"
      ]
    },
    {
      "cell_type": "code",
      "execution_count": null,
      "metadata": {
        "execution": {
          "iopub.execute_input": "2025-05-04T10:38:16.767724Z",
          "iopub.status.busy": "2025-05-04T10:38:16.767029Z",
          "iopub.status.idle": "2025-05-04T10:38:17.900408Z",
          "shell.execute_reply": "2025-05-04T10:38:17.89981Z",
          "shell.execute_reply.started": "2025-05-04T10:38:16.767698Z"
        },
        "id": "dWQ6wXX9brMN",
        "outputId": "88437574-5a00-417c-8c50-02e1dcf911d9",
        "trusted": true
      },
      "outputs": [
        {
          "data": {
            "text/html": [
              "<div>\n",
              "<style scoped>\n",
              "    .dataframe tbody tr th:only-of-type {\n",
              "        vertical-align: middle;\n",
              "    }\n",
              "\n",
              "    .dataframe tbody tr th {\n",
              "        vertical-align: top;\n",
              "    }\n",
              "\n",
              "    .dataframe thead th {\n",
              "        text-align: right;\n",
              "    }\n",
              "</style>\n",
              "<table border=\"1\" class=\"dataframe\">\n",
              "  <thead>\n",
              "    <tr style=\"text-align: right;\">\n",
              "      <th></th>\n",
              "      <th>post_id</th>\n",
              "      <th>processed_posts</th>\n",
              "    </tr>\n",
              "  </thead>\n",
              "  <tbody>\n",
              "    <tr>\n",
              "      <th>0</th>\n",
              "      <td>d1a4fb9d-92c9-4f09-83e4-49bb11282ba5</td>\n",
              "      <td>{$LKOH} секта 4800 рассеялась😆</td>\n",
              "    </tr>\n",
              "    <tr>\n",
              "      <th>1</th>\n",
              "      <td>f10ce454-8e8b-4ce4-998b-4d582f3aafa8</td>\n",
              "      <td>{$MTLR} о опять мотороллер пампят 😃😃😃</td>\n",
              "    </tr>\n",
              "    <tr>\n",
              "      <th>2</th>\n",
              "      <td>1ae3b93d-51eb-4d0c-8cc0-cdaa3b51c541</td>\n",
              "      <td>{$LKOH} когда ливы должны будут прийти примерно?</td>\n",
              "    </tr>\n",
              "    <tr>\n",
              "      <th>3</th>\n",
              "      <td>5f500181-6d6a-48b0-b4c4-857a6fa59ed2</td>\n",
              "      <td>{$MTLR} Ох, знатно ноябрь начнётся на следующе...</td>\n",
              "    </tr>\n",
              "    <tr>\n",
              "      <th>4</th>\n",
              "      <td>0958294a-f507-45b1-8149-bb5e9dcf961d</td>\n",
              "      <td>{$LKOH} ну пугайте так</td>\n",
              "    </tr>\n",
              "    <tr>\n",
              "      <th>...</th>\n",
              "      <td>...</td>\n",
              "      <td>...</td>\n",
              "    </tr>\n",
              "    <tr>\n",
              "      <th>13495</th>\n",
              "      <td>ed67e8fa-4928-4cd4-b5e2-39d09ea816f1</td>\n",
              "      <td>{$LKOH} когда нибудь хомяки поймут,что компани...</td>\n",
              "    </tr>\n",
              "    <tr>\n",
              "      <th>13496</th>\n",
              "      <td>6eb52f1a-559c-4567-a1d4-845313d2bb97</td>\n",
              "      <td>{$SBER} чуть вниз и паника, смешно 🤣</td>\n",
              "    </tr>\n",
              "    <tr>\n",
              "      <th>13497</th>\n",
              "      <td>7a238f49-12cb-4061-9fa7-12578f6ac285</td>\n",
              "      <td>Аналитики {$SBER} кстати считают, что ставку п...</td>\n",
              "    </tr>\n",
              "    <tr>\n",
              "      <th>13498</th>\n",
              "      <td>97a9e14b-50e3-461a-aed6-c79b211036fd</td>\n",
              "      <td>{$SGZH} \\nПолетела 💩💩💩💩</td>\n",
              "    </tr>\n",
              "    <tr>\n",
              "      <th>13499</th>\n",
              "      <td>b1b3dfca-0f7e-45c8-a74d-279f2e7b5fc9</td>\n",
              "      <td>{$YNDX} {$SBER} ДЕД СКАЗАЛ СПОКУХА, ОН РАЗБЕРЁ...</td>\n",
              "    </tr>\n",
              "  </tbody>\n",
              "</table>\n",
              "<p>13500 rows × 2 columns</p>\n",
              "</div>"
            ],
            "text/plain": [
              "                                    post_id  \\\n",
              "0      d1a4fb9d-92c9-4f09-83e4-49bb11282ba5   \n",
              "1      f10ce454-8e8b-4ce4-998b-4d582f3aafa8   \n",
              "2      1ae3b93d-51eb-4d0c-8cc0-cdaa3b51c541   \n",
              "3      5f500181-6d6a-48b0-b4c4-857a6fa59ed2   \n",
              "4      0958294a-f507-45b1-8149-bb5e9dcf961d   \n",
              "...                                     ...   \n",
              "13495  ed67e8fa-4928-4cd4-b5e2-39d09ea816f1   \n",
              "13496  6eb52f1a-559c-4567-a1d4-845313d2bb97   \n",
              "13497  7a238f49-12cb-4061-9fa7-12578f6ac285   \n",
              "13498  97a9e14b-50e3-461a-aed6-c79b211036fd   \n",
              "13499  b1b3dfca-0f7e-45c8-a74d-279f2e7b5fc9   \n",
              "\n",
              "                                         processed_posts  \n",
              "0                         {$LKOH} секта 4800 рассеялась😆  \n",
              "1                  {$MTLR} о опять мотороллер пампят 😃😃😃  \n",
              "2       {$LKOH} когда ливы должны будут прийти примерно?  \n",
              "3      {$MTLR} Ох, знатно ноябрь начнётся на следующе...  \n",
              "4                                 {$LKOH} ну пугайте так  \n",
              "...                                                  ...  \n",
              "13495  {$LKOH} когда нибудь хомяки поймут,что компани...  \n",
              "13496               {$SBER} чуть вниз и паника, смешно 🤣  \n",
              "13497  Аналитики {$SBER} кстати считают, что ставку п...  \n",
              "13498                            {$SGZH} \\nПолетела 💩💩💩💩  \n",
              "13499  {$YNDX} {$SBER} ДЕД СКАЗАЛ СПОКУХА, ОН РАЗБЕРЁ...  \n",
              "\n",
              "[13500 rows x 2 columns]"
            ]
          },
          "execution_count": 11,
          "metadata": {},
          "output_type": "execute_result"
        }
      ],
      "source": [
        "posts_ygpt_9500 = pd.read_excel(\"/kaggle/input/y-gpt13500/y_gpt_9000.xlsx\")\n",
        "posts_ygpt_9500"
      ]
    },
    {
      "cell_type": "code",
      "execution_count": null,
      "metadata": {
        "execution": {
          "iopub.execute_input": "2025-05-03T08:57:57.066881Z",
          "iopub.status.busy": "2025-05-03T08:57:57.066161Z",
          "iopub.status.idle": "2025-05-03T08:57:57.135788Z",
          "shell.execute_reply": "2025-05-03T08:57:57.135031Z",
          "shell.execute_reply.started": "2025-05-03T08:57:57.066856Z"
        },
        "id": "V7dFvRt-brMO",
        "outputId": "629c3069-5047-4083-ad58-81a1ab1b659b",
        "trusted": true
      },
      "outputs": [
        {
          "data": {
            "text/html": [
              "<div>\n",
              "<style scoped>\n",
              "    .dataframe tbody tr th:only-of-type {\n",
              "        vertical-align: middle;\n",
              "    }\n",
              "\n",
              "    .dataframe tbody tr th {\n",
              "        vertical-align: top;\n",
              "    }\n",
              "\n",
              "    .dataframe thead th {\n",
              "        text-align: right;\n",
              "    }\n",
              "</style>\n",
              "<table border=\"1\" class=\"dataframe\">\n",
              "  <thead>\n",
              "    <tr style=\"text-align: right;\">\n",
              "      <th></th>\n",
              "      <th>post_id</th>\n",
              "      <th>processed_posts</th>\n",
              "    </tr>\n",
              "  </thead>\n",
              "  <tbody>\n",
              "    <tr>\n",
              "      <th>0</th>\n",
              "      <td>e7d0b9ff-c742-47dd-951d-910e3b810259</td>\n",
              "      <td>{$SBER} ..................⬆️300,0 вопрос тольк...</td>\n",
              "    </tr>\n",
              "    <tr>\n",
              "      <th>1</th>\n",
              "      <td>cb5e98e8-820c-4bca-be59-9aef2c4106ad</td>\n",
              "      <td>{$SBER} на чем летим?</td>\n",
              "    </tr>\n",
              "    <tr>\n",
              "      <th>2</th>\n",
              "      <td>80176185-ce8b-4875-8c36-51b944cc6833</td>\n",
              "      <td>{$SBER} как прекрасен шортокрыл, посмотри....\\...</td>\n",
              "    </tr>\n",
              "    <tr>\n",
              "      <th>3</th>\n",
              "      <td>521fa124-b357-438b-98e5-e3f0580bdd24</td>\n",
              "      <td>✅ 10 января Лукойл {$LKOH} рассмотрит итоги 20...</td>\n",
              "    </tr>\n",
              "    <tr>\n",
              "      <th>4</th>\n",
              "      <td>ea8c0f0a-6b2d-4c5b-bd9b-a1dc41c349ad</td>\n",
              "      <td>{$SBER}\\n \\nЧто быстрее, скорость света, или с...</td>\n",
              "    </tr>\n",
              "    <tr>\n",
              "      <th>...</th>\n",
              "      <td>...</td>\n",
              "      <td>...</td>\n",
              "    </tr>\n",
              "    <tr>\n",
              "      <th>6495</th>\n",
              "      <td>e24a3eac-31d8-4471-8ea9-f90f11e786fa</td>\n",
              "      <td>{$SGZH} \\nА ведь кто то это скупает..\\nИли про...</td>\n",
              "    </tr>\n",
              "    <tr>\n",
              "      <th>6496</th>\n",
              "      <td>4f9a341d-2a85-4f2a-b357-bfe6fa0567c6</td>\n",
              "      <td>Мечел -0,9%           454 | 1\\nНоватэк -2,9%  ...</td>\n",
              "    </tr>\n",
              "    <tr>\n",
              "      <th>6497</th>\n",
              "      <td>1d466170-60bf-4f82-8284-e92ec8ddbec3</td>\n",
              "      <td>{$LKOH} сделают всё чтобы шортики не вылезли д...</td>\n",
              "    </tr>\n",
              "    <tr>\n",
              "      <th>6498</th>\n",
              "      <td>2aa8f0a9-621a-41df-b1f9-2a2247aed08b</td>\n",
              "      <td>{$SGZH} хватит губить деревья ради денег! Это ...</td>\n",
              "    </tr>\n",
              "    <tr>\n",
              "      <th>6499</th>\n",
              "      <td>5ebf170e-bc8b-4621-bd44-ab7d8a4bec80</td>\n",
              "      <td>{$SBER}, {$SVCB} \\nПеречитайте ещё раз мой пос...</td>\n",
              "    </tr>\n",
              "  </tbody>\n",
              "</table>\n",
              "<p>6500 rows × 2 columns</p>\n",
              "</div>"
            ],
            "text/plain": [
              "                                   post_id  \\\n",
              "0     e7d0b9ff-c742-47dd-951d-910e3b810259   \n",
              "1     cb5e98e8-820c-4bca-be59-9aef2c4106ad   \n",
              "2     80176185-ce8b-4875-8c36-51b944cc6833   \n",
              "3     521fa124-b357-438b-98e5-e3f0580bdd24   \n",
              "4     ea8c0f0a-6b2d-4c5b-bd9b-a1dc41c349ad   \n",
              "...                                    ...   \n",
              "6495  e24a3eac-31d8-4471-8ea9-f90f11e786fa   \n",
              "6496  4f9a341d-2a85-4f2a-b357-bfe6fa0567c6   \n",
              "6497  1d466170-60bf-4f82-8284-e92ec8ddbec3   \n",
              "6498  2aa8f0a9-621a-41df-b1f9-2a2247aed08b   \n",
              "6499  5ebf170e-bc8b-4621-bd44-ab7d8a4bec80   \n",
              "\n",
              "                                        processed_posts  \n",
              "0     {$SBER} ..................⬆️300,0 вопрос тольк...  \n",
              "1                                 {$SBER} на чем летим?  \n",
              "2     {$SBER} как прекрасен шортокрыл, посмотри....\\...  \n",
              "3     ✅ 10 января Лукойл {$LKOH} рассмотрит итоги 20...  \n",
              "4     {$SBER}\\n \\nЧто быстрее, скорость света, или с...  \n",
              "...                                                 ...  \n",
              "6495  {$SGZH} \\nА ведь кто то это скупает..\\nИли про...  \n",
              "6496  Мечел -0,9%           454 | 1\\nНоватэк -2,9%  ...  \n",
              "6497  {$LKOH} сделают всё чтобы шортики не вылезли д...  \n",
              "6498  {$SGZH} хватит губить деревья ради денег! Это ...  \n",
              "6499  {$SBER}, {$SVCB} \\nПеречитайте ещё раз мой пос...  \n",
              "\n",
              "[6500 rows x 2 columns]"
            ]
          },
          "execution_count": 34,
          "metadata": {},
          "output_type": "execute_result"
        }
      ],
      "source": [
        "# posts_ygpt_6500 = pd.read_csv(\"/kaggle/input/ygpt-data/ygpt_data_raw.csv\")\n",
        "# posts_ygpt_6500"
      ]
    },
    {
      "cell_type": "code",
      "execution_count": null,
      "metadata": {
        "id": "PrxGQDaPbrMQ",
        "trusted": true
      },
      "outputs": [],
      "source": []
    },
    {
      "cell_type": "code",
      "execution_count": null,
      "metadata": {
        "execution": {
          "iopub.execute_input": "2025-05-03T09:49:37.782224Z",
          "iopub.status.busy": "2025-05-03T09:49:37.781552Z",
          "iopub.status.idle": "2025-05-03T09:49:37.786335Z",
          "shell.execute_reply": "2025-05-03T09:49:37.785583Z",
          "shell.execute_reply.started": "2025-05-03T09:49:37.782196Z"
        },
        "id": "c-VN27GBbrMQ",
        "trusted": true
      },
      "outputs": [],
      "source": [
        "# system_prompt = \"\"\"Ты - ИИ для анализа финансового сентимента постов.\n",
        "# Твоя задача - классифицировать пост по его тональности относительно торговли акциями.\n",
        "\n",
        "# Категории и правила:\n",
        "# *   **1 (Покупка/Бычий):** Пост явно выражает намерение купить, решение о покупке, удержание лонга с ожиданием роста, или описывает сильные позитивные факторы, прямо указывающие на вероятный рост цены акции. Ключевые слова/идеи: \"купил\", \"докупаю\", \"лонг\", \"ракета\", \"рост\", \"пробой вверх\", \"отчет супер\", \"пора брать\", \"держать дальше\", \"потенциал есть\".\n",
        "# *   **-1 (Продажа/Медвежий):** Пост явно выражает намерение продать, решение о продаже, открытие/удержание шорта с ожиданием падения, или описывает сильные негативные факторы, прямо указывающие на вероятное падение цены акции. Ключевые слова/идеи: \"продал\", \"шорт\", \"сливаю\", \"падение\", \"дно не найдено\", \"отчет плохой\", \"пора выходить\", \"фиксация убытка\", \"коррекция\".\n",
        "# *   **0 (Нейтральный):** Пост НЕ содержит явного торгового сигнала на покупку или продажу. Сюда относятся:\n",
        "#     *   Вопросы о цене или прогнозах (\"что думаете?\", \"куда пойдет?\").\n",
        "#     *   Констатация фактов или новостей без явной оценки влияния на цену (\"вышел отчет\", \"сегодня дивгэп\").\n",
        "#     *   Смешанные сигналы или сомнения (\"вроде растет, но страшно\", \"с одной стороны..., с другой...\").\n",
        "#     *   Общие рыночные рассуждения без привязки к конкретному действию.\n",
        "#     *   Фиксация прибыли или убытка *без явного прогноза* дальнейшего движения (\"закрыл позицию\", \"вышел в ноль\").\n",
        "#     *   Неясные или неинформативные сообщения.\n",
        "\n",
        "\n",
        "# Верни ТОЛЬКО ОДНО число: 1, 0 или -1.\"\"\""
      ]
    },
    {
      "cell_type": "code",
      "execution_count": null,
      "metadata": {
        "colab": {
          "referenced_widgets": [
            "154657d3c4d04848bcff73c97228e225"
          ]
        },
        "execution": {
          "iopub.execute_input": "2025-05-04T10:40:59.261304Z",
          "iopub.status.busy": "2025-05-04T10:40:59.260637Z",
          "iopub.status.idle": "2025-05-04T10:41:03.407713Z",
          "shell.execute_reply": "2025-05-04T10:41:03.406661Z",
          "shell.execute_reply.started": "2025-05-04T10:40:59.261282Z"
        },
        "id": "yfNlqxSlbrMQ",
        "outputId": "9fe2e947-9177-4e30-fdc4-3fcc29861b36",
        "trusted": true
      },
      "outputs": [],
      "source": [
        "import pandas as pd\n",
        "import torch\n",
        "import time\n",
        "import re # Импортируем модуль для регулярных выражений\n",
        "from tqdm.auto import tqdm # Используем tqdm.auto для работы в разных средах\n",
        "\n",
        "system_prompt = \"\"\"Ты - ИИ для анализа финансового сентимента постов.\n",
        "Твоя задача - классифицировать пост по его тональности относительно торговли акциями.\n",
        "Верни ТОЛЬКО ОДНО ЧИСЛО: 1 (покупаем актив/бычий), 0 (нейтральный), -1 (продаем актив /медвежий).\n",
        "Проанализируй следующий пост и верни ТОЛЬКО число.\"\"\"\n",
        "\n",
        "# --- Новая функция для YandexGPT с ручным промптом ---\n",
        "def classify_sentiment_yandexgpt(\n",
        "    df: pd.DataFrame,\n",
        "    model,\n",
        "    tokenizer,\n",
        "    system_prompt: str,\n",
        "    text_column: str = \"processed_posts\",\n",
        "    output_column: str = \"yandexgpt_sentiment\",\n",
        "    max_new_tokens: int = 5,\n",
        "    default_sentiment: int = 0,\n",
        "    prompt_format: str = \"System:\\n{system}\\nUser:\\n{user}\\nAssistant:\",\n",
        "    # Альтернативный формат: \"<|im_start|>system\\n{system}<|im_end|>\\n<|im_start|>user\\n{user}<|im_end|>\\n<|im_start|>assistant\"\n",
        ") -> pd.DataFrame:\n",
        "\n",
        "\n",
        "\n",
        "    results = []\n",
        "\n",
        "    device = model.device # Определяем устройство модели\n",
        "    print(f\"Начинаем обработку {len(df)} постов с моделью YandexGPT на устройстве {device}...\")\n",
        "\n",
        "    # Итерация по постам с использованием tqdm\n",
        "    for index, row in tqdm(df.iterrows(), total=df.shape[0], desc=\"Классификация YandexGPT\"):\n",
        "        post_text = row[text_column]\n",
        "\n",
        "        # Проверка на пустой или некорректный текст\n",
        "        if not isinstance(post_text, str) or not post_text.strip():\n",
        "            results.append(default_sentiment)\n",
        "            continue\n",
        "\n",
        "        full_prompt = f\"\"\"\n",
        "                            System: {system_prompt}\n",
        "                            User: {post_text}\n",
        "                            Assistant:\n",
        "                       \"\"\"\n",
        "        # # ---- Ключевое изменение: Ручное формирование промпта ----\n",
        "        # full_prompt = prompt_format.format(system=system_prompt, user=post_text)\n",
        "        # # ---------------------------------------------------------\n",
        "\n",
        "        try:\n",
        "            # Очистка кеша CUDA (может помочь при долгой работе)\n",
        "            if device.type == 'cuda':\n",
        "                 torch.cuda.empty_cache()\n",
        "\n",
        "            messages = [\n",
        "                # {\"role\": \"system\", \"content\": system_prompt},\n",
        "                {\"role\": \"user\", \"content\": full_prompt}\n",
        "            ]\n",
        "            input_ids = tokenizer.apply_chat_template(\n",
        "                messages, tokenize=True, return_tensors=\"pt\"\n",
        "            ).to(\"cuda\")\n",
        "\n",
        "            outputs = model.generate(*input_ids, max_new_tokens=5, do_sample=False, pad_token_id=tokenizer.pad_token_id)\n",
        "            sent_score = tokenizer.decode(outputs[0][input_ids.size(1) :], skip_special_tokens=True)\n",
        "\n",
        "            results.append(sent_score)\n",
        "\n",
        "        except Exception as e:\n",
        "            print(f\"\\nКритическая ошибка при обработке поста {index}: {e}\")\n",
        "            print(f\"Текст поста: {post_text[:100]}...\")\n",
        "            print(f\"Сформированный промпт: {full_prompt[:200]}...\") # Помогает в отладке\n",
        "            results.append(default_sentiment)\n",
        "\n",
        "    df[output_column] = results\n",
        "    return df\n",
        "\n",
        "\n",
        "# # Создаем копию DataFrame для обработки\n",
        "df_for_yandex_processing = posts_ygpt_9500.copy() # Замените my_dataframe на ваш DataFrame\n",
        "\n",
        "print(\"Запуск классификации с YandexGPT...\")\n",
        "df_classified_yandex = classify_sentiment_yandexgpt(\n",
        "    df=df_for_yandex_processing,\n",
        "    model=model,         # Передаем модель YandexGPT\n",
        "    tokenizer=tokenizer, # Передаем токенизатор YandexGPT\n",
        "    system_prompt=system_prompt,\n",
        "    text_column=\"processed_posts\", # Укажите имя колонки с текстами\n",
        "    output_column=\"yandex_8b_sentiment\" # Укажите желаемое имя колонки для результатов\n",
        ")\n",
        "\n",
        "# --- Проверка результатов ---\n",
        "print(\"\\nПример результатов YandexGPT:\")\n",
        "print(df_classified_yandex.head())\n",
        "print(\"\\nРаспределение полученных классов YandexGPT:\")\n",
        "print(df_classified_yandex['yandex_8b_sentiment'].value_counts())\n"
      ]
    },
    {
      "cell_type": "code",
      "execution_count": null,
      "metadata": {
        "id": "hLfMrNXObrMS",
        "trusted": true
      },
      "outputs": [],
      "source": []
    }
  ],
  "metadata": {
    "colab": {
      "name": "llm_inference_ygpt",
      "provenance": []
    },
    "kaggle": {
      "accelerator": "nvidiaTeslaT4",
      "dataSources": [
        {
          "datasetId": 7301970,
          "sourceId": 11637526,
          "sourceType": "datasetVersion"
        },
        {
          "datasetId": 7316510,
          "sourceId": 11658915,
          "sourceType": "datasetVersion"
        },
        {
          "datasetId": 7324913,
          "sourceId": 11671631,
          "sourceType": "datasetVersion"
        },
        {
          "datasetId": 7326579,
          "sourceId": 11673951,
          "sourceType": "datasetVersion"
        }
      ],
      "dockerImageVersionId": 31011,
      "isGpuEnabled": true,
      "isInternetEnabled": true,
      "language": "python",
      "sourceType": "notebook"
    },
    "kernelspec": {
      "display_name": "Python 3",
      "language": "python",
      "name": "python3"
    },
    "language_info": {
      "codemirror_mode": {
        "name": "ipython",
        "version": 3
      },
      "file_extension": ".py",
      "mimetype": "text/x-python",
      "name": "python",
      "nbconvert_exporter": "python",
      "pygments_lexer": "ipython3",
      "version": "3.11.11"
    }
  },
  "nbformat": 4,
  "nbformat_minor": 0
}
